{
 "cells": [
  {
   "cell_type": "markdown",
   "id": "7152d82b",
   "metadata": {},
   "source": [
    "# 1. What does an empty dictionary&#39;s code look like?"
   ]
  },
  {
   "cell_type": "markdown",
   "id": "ba7c656d",
   "metadata": {},
   "source": [
    "In Python, an empty dictionary is represented using curly braces {} with no key-value pairs inside. Here's what the code for an empty dictionary looks like:\n",
    "\n",
    "empty_dict = {}"
   ]
  },
  {
   "cell_type": "markdown",
   "id": "0257ce3f",
   "metadata": {},
   "source": [
    "# 2. What is the value of a dictionary value with the key &#39;foo&#39; and the value 42?"
   ]
  },
  {
   "cell_type": "markdown",
   "id": "1c5b2530",
   "metadata": {},
   "source": [
    "If you have a dictionary with the key 'foo' and the value 42, the value associated with the key 'foo' is 42. Here's how you would create and access this dictionary:\n",
    "\n",
    "my_dict = {'foo': 42}\n",
    "\n",
    "value_of_foo = my_dict['foo']\n",
    "\n",
    "print(value_of_foo)  # This will output: 42\n",
    "\n",
    "In this example, my_dict is the dictionary containing the key-value pair 'foo': 42, and value_of_foo is the variable storing the value associated with the key 'foo', which is 42."
   ]
  },
  {
   "cell_type": "markdown",
   "id": "9d7bcf4a",
   "metadata": {},
   "source": [
    "# 3. What is the most significant distinction between a dictionary and a list?"
   ]
  },
  {
   "cell_type": "markdown",
   "id": "fe810063",
   "metadata": {},
   "source": [
    "The most significant distinction between a dictionary and a list in Python is how they store and organize data:\n",
    "\n",
    "Structure and Access:\n",
    "\n",
    "Dictionary: A dictionary is an unordered collection of key-value pairs. Each key in a dictionary is unique and maps to a specific value. Dictionaries use keys to provide quick and efficient access to their values.\n",
    "\n",
    "List: A list is an ordered collection of elements. Each element in a list is assigned an index based on its position in the list. Lists are accessed using these numerical indices.\n",
    "Accessing Elements:\n",
    "\n",
    "Dictionary: Elements in a dictionary are accessed using their keys. You use the key to look up the corresponding value. Dictionaries provide fast access to values based on the key.\n",
    "\n",
    "List: Elements in a list are accessed using numerical indices starting from 0. You use the index to retrieve the element at a particular position in the list.\n",
    "\n",
    "Uniqueness of Elements:\n",
    "\n",
    "Dictionary: Keys in a dictionary must be unique. Each key maps to a single value.\n",
    "List: Elements in a list do not need to be unique. The same value can appear at multiple positions in a list.\n",
    "\n",
    "List: Lists are also mutable. You can change their contents by modifying, adding, or removing elements.\n",
    "Use Cases:\n",
    "\n",
    "Dictionary: Dictionaries are great for associating values with specific keys, such as storing settings, data with labels, or building mappings between related pieces of information.\n",
    "\n",
    "List: Lists are suitable for storing collections of items when the order matters, such as sequences of data or when you need a dynamic collection that can be easily modified.\n",
    "\n",
    "Dictionaries are optimized for fast lookups based on keys, while lists are used to maintain an ordered collection of elements accessed by indices. The choice between using a dictionary or a list depends on the specific needs of your program and the type of data you are working with."
   ]
  },
  {
   "cell_type": "markdown",
   "id": "10493ec1",
   "metadata": {},
   "source": [
    "# 4. What happens if you try to access spam[&#39;foo&#39;] if spam is {&#39;bar&#39;: 100}?"
   ]
  },
  {
   "cell_type": "markdown",
   "id": "19e74888",
   "metadata": {},
   "source": [
    "If we try to access spam['foo'] where spam is {'bar': 100}, we will encounter a KeyError because the key 'foo' does not exist in the dictionary spam. In Python, attempting to access a dictionary element using a key that doesn't exist will raise a KeyError exception."
   ]
  },
  {
   "cell_type": "markdown",
   "id": "d0bab1c9",
   "metadata": {},
   "source": [
    "# 5. If a dictionary is stored in spam, what is the difference between the expressions &#39;cat&#39; in spam and &#39;cat&#39; in spam.keys()?"
   ]
  },
  {
   "cell_type": "markdown",
   "id": "56f07306",
   "metadata": {},
   "source": [
    "In Python, when dealing with dictionaries, the expressions 'cat' in spam and 'cat' in spam.keys() are functionally equivalent. Both expressions are used to check if a specific key ('cat' in this case) exists in the dictionary spam.\n",
    "\n",
    "1.'cat' in spam:\n",
    "\n",
    "This expression checks whether the key 'cat' exists in the dictionary spam. It returns True if the key is present and False if it's not.\n",
    "\n",
    "2.'cat' in spam.keys():\n",
    "\n",
    "This expression also checks whether the key 'cat' exists in the dictionary spam. The .keys() method returns a view of the keys in the dictionary. The in operator checks whether the specified key exists in the view of keys, and again, it returns True if the key is present and False if it's not."
   ]
  },
  {
   "cell_type": "code",
   "execution_count": 1,
   "id": "81606c00",
   "metadata": {},
   "outputs": [
    {
     "name": "stdout",
     "output_type": "stream",
     "text": [
      "True\n",
      "False\n",
      "True\n",
      "False\n"
     ]
    }
   ],
   "source": [
    "spam = {'cat': 42, 'dog': 23, 'fish': 7}\n",
    "\n",
    "# Using 'in' directly on the dictionary\n",
    "print('cat' in spam)  # Output: True\n",
    "print('elephant' in spam)  # Output: False\n",
    "\n",
    "# Using 'in' with .keys()\n",
    "print('cat' in spam.keys())  # Output: True\n",
    "print('elephant' in spam.keys())  # Output: False"
   ]
  },
  {
   "cell_type": "markdown",
   "id": "bdfa8456",
   "metadata": {},
   "source": [
    "# 6. If a dictionary is stored in spam, what is the difference between the expressions &#39;cat&#39; in spam and &#39;cat&#39; in spam.values()?"
   ]
  },
  {
   "cell_type": "markdown",
   "id": "193abc7e",
   "metadata": {},
   "source": [
    "In Python, the expressions 'cat' in spam and 'cat' in spam.values() have different meanings and purposes:\n",
    "\n",
    "1.'cat' in spam:\n",
    "\n",
    "This expression checks whether the key 'cat' exists in the keys of the dictionary spam. It returns True if the key is present as one of the keys in the dictionary and False if it's not.\n",
    "\n",
    "2.'cat' in spam.values():\n",
    "\n",
    "This expression checks whether the value 'cat' exists in the values of the dictionary spam. It returns True if the value is present as one of the values in the dictionary and False if it's not."
   ]
  },
  {
   "cell_type": "markdown",
   "id": "3aa45c6d",
   "metadata": {},
   "source": [
    "# 7. What is a shortcut for the following code?\n",
    "\n",
    "# if &#39;color&#39; not in spam:\n",
    "\n",
    "# spam[&#39;color&#39;] = &#39;black&#39;"
   ]
  },
  {
   "cell_type": "markdown",
   "id": "d06aa82b",
   "metadata": {},
   "source": [
    "The code snippet you provided checks if the key 'color' is not present in the dictionary spam and then adds the key-value pair 'color': 'black' if the key is not present.\n",
    "\n",
    "Here's the equivalent code using the setdefault() method:"
   ]
  },
  {
   "cell_type": "code",
   "execution_count": 2,
   "id": "6abafce4",
   "metadata": {},
   "outputs": [
    {
     "data": {
      "text/plain": [
       "'black'"
      ]
     },
     "execution_count": 2,
     "metadata": {},
     "output_type": "execute_result"
    }
   ],
   "source": [
    "spam.setdefault('color', 'black')"
   ]
  },
  {
   "cell_type": "markdown",
   "id": "ef9f0671",
   "metadata": {},
   "source": [
    "The setdefault() method checks if the key 'color' is present in the dictionary. If it's not present, it adds the key with the specified default value 'black'. If the key is already present, it returns the current value associated with the key. This method provides a concise way to achieve the same behavior as your original if statement."
   ]
  },
  {
   "cell_type": "markdown",
   "id": "26f26e0b",
   "metadata": {},
   "source": [
    "# 8. How do you &quot;pretty print&quot; dictionary values using which module and function?"
   ]
  },
  {
   "cell_type": "markdown",
   "id": "69b91b41",
   "metadata": {},
   "source": [
    "To \"pretty print\" dictionary values in Python, you can use the json module's json.dumps() function with the indent parameter. This will format the dictionary in a more human-readable way with proper indentation. Here's how you can achieve it:\n",
    "\n",
    "\n",
    "In following example, the indent parameter is set to 4, which means that each level of the dictionary will be indented by 4 spaces. The json.dumps() function converts the dictionary into a formatted string representation.\n",
    "\n",
    "When we run the code, you'll see the dictionary printed in a well-formatted and indented manner, making it more readable.\n",
    "\n",
    "we should Keep in mind that the json module primarily works with dictionaries that contain JSON-compatible data types, so it might not handle more complex Python objects directly."
   ]
  },
  {
   "cell_type": "code",
   "execution_count": 3,
   "id": "5d0f3b85",
   "metadata": {},
   "outputs": [
    {
     "name": "stdout",
     "output_type": "stream",
     "text": [
      "{\n",
      "    \"name\": \"John\",\n",
      "    \"age\": 30,\n",
      "    \"city\": \"New York\"\n",
      "}\n"
     ]
    }
   ],
   "source": [
    "import json\n",
    "\n",
    "my_dict = {'name': 'John', 'age': 30, 'city': 'New York'}\n",
    "\n",
    "# Pretty print the dictionary using json.dumps() with an indent\n",
    "pretty_dict = json.dumps(my_dict, indent=4)\n",
    "\n",
    "print(pretty_dict)"
   ]
  },
  {
   "cell_type": "code",
   "execution_count": null,
   "id": "9ee99da8",
   "metadata": {},
   "outputs": [],
   "source": []
  }
 ],
 "metadata": {
  "kernelspec": {
   "display_name": "Python 3 (ipykernel)",
   "language": "python",
   "name": "python3"
  },
  "language_info": {
   "codemirror_mode": {
    "name": "ipython",
    "version": 3
   },
   "file_extension": ".py",
   "mimetype": "text/x-python",
   "name": "python",
   "nbconvert_exporter": "python",
   "pygments_lexer": "ipython3",
   "version": "3.9.7"
  }
 },
 "nbformat": 4,
 "nbformat_minor": 5
}
